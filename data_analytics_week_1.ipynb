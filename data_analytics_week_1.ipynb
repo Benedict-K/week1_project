{
  "nbformat": 4,
  "nbformat_minor": 0,
  "metadata": {
    "colab": {
      "provenance": [],
      "collapsed_sections": [
        "rT0tfTpC5mot"
      ],
      "toc_visible": true
    },
    "kernelspec": {
      "name": "python3",
      "display_name": "Python 3"
    },
    "language_info": {
      "name": "python"
    }
  },
  "cells": [
    {
      "cell_type": "code",
      "execution_count": null,
      "metadata": {
        "id": "Br-GjAmTKvPq",
        "colab": {
          "base_uri": "https://localhost:8080/"
        },
        "outputId": "3e7aaa0d-2610-481e-8f63-2929d1bb112f"
      },
      "outputs": [
        {
          "output_type": "stream",
          "name": "stdout",
          "text": [
            "The sql extension is already loaded. To reload it, use:\n",
            "  %reload_ext sql\n"
          ]
        }
      ],
      "source": [
        "%load_ext sql"
      ]
    },
    {
      "cell_type": "markdown",
      "source": [
        "# **DAY 1 CHALLENGE**"
      ],
      "metadata": {
        "id": "MZoM3xRl4qdE"
      }
    },
    {
      "cell_type": "code",
      "source": [
        "%sql sqlite:///DATA_ABC.db"
      ],
      "metadata": {
        "id": "_vXCrvyBLMSo"
      },
      "execution_count": null,
      "outputs": []
    },
    {
      "cell_type": "code",
      "source": [
        "%%sql\n",
        "CREATE TABLE customers(\n",
        "customer_id INT,\n",
        "first_name VARCHAR(20),\n",
        "last_name VARCHAR(20),\n",
        "email VARCHAR(30)\n",
        ");"
      ],
      "metadata": {
        "colab": {
          "base_uri": "https://localhost:8080/"
        },
        "id": "cFVns1y9LMB5",
        "outputId": "004239cd-53bc-4620-fe04-1c8f709c9069"
      },
      "execution_count": null,
      "outputs": [
        {
          "output_type": "stream",
          "name": "stdout",
          "text": [
            " * sqlite:///DATA_ABC.db\n",
            "Done.\n"
          ]
        },
        {
          "output_type": "execute_result",
          "data": {
            "text/plain": [
              "[]"
            ]
          },
          "metadata": {},
          "execution_count": 5
        }
      ]
    },
    {
      "cell_type": "code",
      "source": [
        "%%sql\n",
        "CREATE TABLE products(\n",
        "product_id INT,\n",
        "product_name VARCHAR(30),\n",
        "price DECIMAL(10,2)\n",
        ")"
      ],
      "metadata": {
        "colab": {
          "base_uri": "https://localhost:8080/"
        },
        "id": "qfej-yShPCQ8",
        "outputId": "32657901-fde6-4cd3-dd6f-2ebcb2b8cca6"
      },
      "execution_count": null,
      "outputs": [
        {
          "output_type": "stream",
          "name": "stdout",
          "text": [
            " * sqlite:///DATA_ABC.db\n",
            "Done.\n"
          ]
        },
        {
          "output_type": "execute_result",
          "data": {
            "text/plain": [
              "[]"
            ]
          },
          "metadata": {},
          "execution_count": 6
        }
      ]
    },
    {
      "cell_type": "code",
      "source": [
        "%%sql\n",
        "CREATE TABLE orders(\n",
        "  order_id INT,\n",
        "  customer_id INT,\n",
        "  order_date DATE\n",
        ");"
      ],
      "metadata": {
        "colab": {
          "base_uri": "https://localhost:8080/"
        },
        "id": "EzrpTwBURF_k",
        "outputId": "53064976-b572-4c92-acbf-cc3553a5573d"
      },
      "execution_count": null,
      "outputs": [
        {
          "output_type": "stream",
          "name": "stdout",
          "text": [
            " * sqlite:///DATA_ABC.db\n",
            "Done.\n"
          ]
        },
        {
          "output_type": "execute_result",
          "data": {
            "text/plain": [
              "[]"
            ]
          },
          "metadata": {},
          "execution_count": 8
        }
      ]
    },
    {
      "cell_type": "code",
      "source": [
        "%%sql CREATE TABLE order_items(\n",
        "    order_id INT,\n",
        "                               product_id INT,\n",
        "                               quantity INT\n",
        "\n",
        "\n",
        ");\n"
      ],
      "metadata": {
        "colab": {
          "base_uri": "https://localhost:8080/"
        },
        "id": "eJxn99YrRGhg",
        "outputId": "1d0a8ce1-876b-4aad-8322-1bdd02f28d86"
      },
      "execution_count": null,
      "outputs": [
        {
          "output_type": "stream",
          "name": "stdout",
          "text": [
            " * sqlite:///DATA_ABC.db\n",
            "Done.\n"
          ]
        },
        {
          "output_type": "execute_result",
          "data": {
            "text/plain": [
              "[]"
            ]
          },
          "metadata": {},
          "execution_count": 9
        }
      ]
    },
    {
      "cell_type": "markdown",
      "source": [
        "# **DAY 2 CHALLENGE**"
      ],
      "metadata": {
        "id": "LyNhMxfX5Blt"
      }
    },
    {
      "cell_type": "code",
      "source": [
        "%%sql\n",
        " INSERT INTO customers (customer_id, first_name, last_name, email) VALUES\n",
        "    (1, 'John', 'Doe', 'johndoe@email.com'),\n",
        "    (2, 'Jane', 'Smith', 'janesmith@email.com'),\n",
        "    (3, 'Bob', 'Johnson', 'bobjohnson@email.com'),\n",
        "    (4, 'Alice', 'Brown', 'alicebrown@email.com'),\n",
        "    (5, 'Charlie', 'Davis', 'charliedavis@email.com'),\n",
        "    (6, 'Eva', 'Fisher', 'evafisher@email.com'),\n",
        "    (7, 'George', 'Harris', 'georgeharris@email.com'),\n",
        "    (8, 'Ivy', 'Jones', 'ivyjones@email.com'),\n",
        "    (9, 'Kevin', 'Miller', 'kevinmiller@email.com'),\n",
        "    (10, 'Lily', 'Nelson', 'lilynelson@email.com'),\n",
        "    (11, 'Oliver', 'Patterson', 'oliverpatterson@email.com'),\n",
        "    (12, 'Quinn', 'Roberts', 'quinnroberts@email.com'),\n",
        "    (13, 'Sophia', 'Thomas', 'sophiathomas@email.com');"
      ],
      "metadata": {
        "colab": {
          "base_uri": "https://localhost:8080/"
        },
        "id": "LLGGaxH2abIz",
        "outputId": "f7c10a75-c78d-42fe-9098-7aada718c0d1"
      },
      "execution_count": null,
      "outputs": [
        {
          "output_type": "stream",
          "name": "stdout",
          "text": [
            " * sqlite:///DATA_ABC.db\n",
            "13 rows affected.\n"
          ]
        },
        {
          "output_type": "execute_result",
          "data": {
            "text/plain": [
              "[]"
            ]
          },
          "metadata": {},
          "execution_count": 10
        }
      ]
    },
    {
      "cell_type": "code",
      "source": [
        "%%sql\n",
        "   INSERT INTO products (product_id, product_name, price) VALUES\n",
        "    (1, 'Product A', 10.00),\n",
        "    (2, 'Product B', 15.00),\n",
        "    (3, 'Product C', 20.00),\n",
        "    (4, 'Product D', 25.00),\n",
        "    (5, 'Product E', 30.00),\n",
        "    (6, 'Product F', 35.00),\n",
        "    (7, 'Product G', 40.00),\n",
        "    (8, 'Product H', 45.00),\n",
        "    (9, 'Product I', 50.00),\n",
        "    (10, 'Product J', 55.00),\n",
        "    (11, 'Product K', 60.00),\n",
        "    (12, 'Product L', 65.00),\n",
        "    (13, 'Product M', 70.00);"
      ],
      "metadata": {
        "colab": {
          "base_uri": "https://localhost:8080/"
        },
        "id": "RFotjRvIRG6d",
        "outputId": "4a031895-11f0-40f0-97aa-a4de405334bc"
      },
      "execution_count": null,
      "outputs": [
        {
          "output_type": "stream",
          "name": "stdout",
          "text": [
            " * sqlite:///DATA_ABC.db\n",
            "13 rows affected.\n"
          ]
        },
        {
          "output_type": "execute_result",
          "data": {
            "text/plain": [
              "[]"
            ]
          },
          "metadata": {},
          "execution_count": 11
        }
      ]
    },
    {
      "cell_type": "code",
      "source": [
        "%%sql\n",
        "    INSERT INTO orders (order_id, customer_id, order_date) VALUES\n",
        "    (1, 1, '2023-05-01'),\n",
        "    (2, 2, '2023-05-02'),\n",
        "    (3, 3, '2023-05-03'),\n",
        "    (4, 1, '2023-05-04'),\n",
        "    (5, 2, '2023-05-05'),\n",
        "    (6, 3, '2023-05-06'),\n",
        "    (7, 4, '2023-05-07'),\n",
        "    (8, 5, '2023-05-08'),\n",
        "    (9, 6, '2023-05-09'),\n",
        "    (10, 7, '2023-05-10'),\n",
        "    (11, 8, '2023-05-11'),\n",
        "    (12, 9, '2023-05-12'),\n",
        "    (13, 10, '2023-05-13'),\n",
        "    (14, 11, '2023-05-14'),\n",
        "    (15, 12, '2023-05-15'),\n",
        "    (16, 13, '2023-05-16');"
      ],
      "metadata": {
        "colab": {
          "base_uri": "https://localhost:8080/"
        },
        "id": "A9vyoXpUa6zJ",
        "outputId": "96ab7e7d-e5cc-47de-af97-3b2b909afa3f"
      },
      "execution_count": null,
      "outputs": [
        {
          "output_type": "stream",
          "name": "stdout",
          "text": [
            " * sqlite:///DATA_ABC.db\n",
            "16 rows affected.\n"
          ]
        },
        {
          "output_type": "execute_result",
          "data": {
            "text/plain": [
              "[]"
            ]
          },
          "metadata": {},
          "execution_count": 12
        }
      ]
    },
    {
      "cell_type": "code",
      "source": [
        "%%sql\n",
        " INSERT INTO order_items (order_id, product_id, quantity) VALUES\n",
        "    (1, 1, 2),\n",
        "    (1, 2, 1),\n",
        "    (2, 2, 1),\n",
        "    (2, 3, 3),\n",
        "    (3, 1, 1),\n",
        "    (3, 3, 2),\n",
        "    (4, 2, 4),\n",
        "    (4, 3, 1),\n",
        "    (5, 1, 1),\n",
        "    (5, 3, 2),\n",
        "    (6, 2, 3),\n",
        "    (6, 1, 1),\n",
        "    (7, 4, 1),\n",
        "    (7, 5, 2),\n",
        "    (8, 6, 3),\n",
        "    (8, 7, 1),\n",
        "    (9, 8, 2),\n",
        "    (9, 9, 1),\n",
        "    (10, 10, 3),\n",
        "    (10, 11, 2),\n",
        "    (11, 12, 1),\n",
        "    (11, 13, 3),\n",
        "    (12, 4, 2),\n",
        "    (12, 5, 1),\n",
        "    (13, 6, 3),\n",
        "    (13, 7, 2),\n",
        "    (14, 8, 1),\n",
        "    (14, 9, 2),\n",
        "    (15, 10, 3),\n",
        "    (15, 11, 1),\n",
        "    (16, 12, 2),\n",
        "    (16, 13, 3);"
      ],
      "metadata": {
        "colab": {
          "base_uri": "https://localhost:8080/"
        },
        "id": "DSm7zdh0a6g7",
        "outputId": "1945093b-acb4-4384-ccf6-85e3727ce550"
      },
      "execution_count": null,
      "outputs": [
        {
          "output_type": "stream",
          "name": "stdout",
          "text": [
            " * sqlite:///DATA_ABC.db\n",
            "32 rows affected.\n"
          ]
        },
        {
          "output_type": "execute_result",
          "data": {
            "text/plain": [
              "[]"
            ]
          },
          "metadata": {},
          "execution_count": 13
        }
      ]
    },
    {
      "cell_type": "markdown",
      "source": [
        "# **DAY 3 CHALLENGE**"
      ],
      "metadata": {
        "id": "FrEGEblS5LLN"
      }
    },
    {
      "cell_type": "code",
      "source": [
        "%%sql\n",
        "SELECT product_id FROM products WHERE price=70;"
      ],
      "metadata": {
        "colab": {
          "base_uri": "https://localhost:8080/",
          "height": 96
        },
        "id": "V1AxGINZa6Ve",
        "outputId": "a3a56300-ad53-4b40-e344-a1cd6f08f2dc"
      },
      "execution_count": null,
      "outputs": [
        {
          "output_type": "stream",
          "name": "stdout",
          "text": [
            " * sqlite:///DATA_ABC.db\n",
            "Done.\n"
          ]
        },
        {
          "output_type": "execute_result",
          "data": {
            "text/plain": [
              "[(13,)]"
            ],
            "text/html": [
              "<table>\n",
              "    <thead>\n",
              "        <tr>\n",
              "            <th>product_id</th>\n",
              "        </tr>\n",
              "    </thead>\n",
              "    <tbody>\n",
              "        <tr>\n",
              "            <td>13</td>\n",
              "        </tr>\n",
              "    </tbody>\n",
              "</table>"
            ]
          },
          "metadata": {},
          "execution_count": 14
        }
      ]
    },
    {
      "cell_type": "code",
      "source": [
        "%%sql\n",
        "SELECT order_id FROM order_items WHERE quantity=4;"
      ],
      "metadata": {
        "colab": {
          "base_uri": "https://localhost:8080/",
          "height": 96
        },
        "id": "h-WFO1gse47U",
        "outputId": "5c94d58d-0e48-4748-cb11-a88b0dc2e78e"
      },
      "execution_count": null,
      "outputs": [
        {
          "output_type": "stream",
          "name": "stdout",
          "text": [
            " * sqlite:///DATA_ABC.db\n",
            "Done.\n"
          ]
        },
        {
          "output_type": "execute_result",
          "data": {
            "text/plain": [
              "[(4,)]"
            ],
            "text/html": [
              "<table>\n",
              "    <thead>\n",
              "        <tr>\n",
              "            <th>order_id</th>\n",
              "        </tr>\n",
              "    </thead>\n",
              "    <tbody>\n",
              "        <tr>\n",
              "            <td>4</td>\n",
              "        </tr>\n",
              "    </tbody>\n",
              "</table>"
            ]
          },
          "metadata": {},
          "execution_count": 15
        }
      ]
    },
    {
      "cell_type": "markdown",
      "source": [
        "# **DAY 4 CHALLENGE**"
      ],
      "metadata": {
        "id": "rT0tfTpC5mot"
      }
    },
    {
      "cell_type": "code",
      "source": [
        "%%sql\n",
        "SELECT customer_id FROM orders WHERE order_id=4;"
      ],
      "metadata": {
        "colab": {
          "base_uri": "https://localhost:8080/",
          "height": 96
        },
        "id": "PXhN1Ks7gI29",
        "outputId": "086cb1d0-288a-4c74-db39-4570eefc7a10"
      },
      "execution_count": null,
      "outputs": [
        {
          "output_type": "stream",
          "name": "stdout",
          "text": [
            " * sqlite:///DATA_ABC.db\n",
            "Done.\n"
          ]
        },
        {
          "output_type": "execute_result",
          "data": {
            "text/plain": [
              "[(1,)]"
            ],
            "text/html": [
              "<table>\n",
              "    <thead>\n",
              "        <tr>\n",
              "            <th>customer_id</th>\n",
              "        </tr>\n",
              "    </thead>\n",
              "    <tbody>\n",
              "        <tr>\n",
              "            <td>1</td>\n",
              "        </tr>\n",
              "    </tbody>\n",
              "</table>"
            ]
          },
          "metadata": {},
          "execution_count": 16
        }
      ]
    },
    {
      "cell_type": "code",
      "source": [
        "%%sql\n",
        "SELECT product_name,price * SUM(quantity) AS total_revenue FROM products,orders,order_items\n",
        "\n"
      ],
      "metadata": {
        "colab": {
          "base_uri": "https://localhost:8080/",
          "height": 96
        },
        "id": "rqiKAO_eMfhw",
        "outputId": "efdebdc5-ea97-4e15-91ae-09c8e3e6ca2c"
      },
      "execution_count": null,
      "outputs": [
        {
          "output_type": "stream",
          "name": "stdout",
          "text": [
            " * sqlite:///DATA_ABC.db\n",
            "Done.\n"
          ]
        },
        {
          "output_type": "execute_result",
          "data": {
            "text/plain": [
              "[('Product A', 126880)]"
            ],
            "text/html": [
              "<table>\n",
              "    <thead>\n",
              "        <tr>\n",
              "            <th>product_name</th>\n",
              "            <th>total_revenue</th>\n",
              "        </tr>\n",
              "    </thead>\n",
              "    <tbody>\n",
              "        <tr>\n",
              "            <td>Product A</td>\n",
              "            <td>126880</td>\n",
              "        </tr>\n",
              "    </tbody>\n",
              "</table>"
            ]
          },
          "metadata": {},
          "execution_count": 28
        }
      ]
    },
    {
      "cell_type": "markdown",
      "source": [
        "# **DAY 5 CHALLENGE**"
      ],
      "metadata": {
        "id": "w3FsQV6M5wyE"
      }
    },
    {
      "cell_type": "code",
      "source": [
        "%%sql\n",
        "SELECT order_id,customer_id,order_date FROM orders ORDER BY order_date\n",
        "\n"
      ],
      "metadata": {
        "colab": {
          "base_uri": "https://localhost:8080/",
          "height": 417
        },
        "id": "qLDhNyTQSd69",
        "outputId": "418c0b12-a450-4323-b8b5-177fa8a77739"
      },
      "execution_count": null,
      "outputs": [
        {
          "output_type": "stream",
          "name": "stdout",
          "text": [
            " * sqlite:///DATA_ABC.db\n",
            "Done.\n"
          ]
        },
        {
          "output_type": "execute_result",
          "data": {
            "text/plain": [
              "[(1, 1, '2023-05-01'),\n",
              " (2, 2, '2023-05-02'),\n",
              " (3, 3, '2023-05-03'),\n",
              " (4, 1, '2023-05-04'),\n",
              " (5, 2, '2023-05-05'),\n",
              " (6, 3, '2023-05-06'),\n",
              " (7, 4, '2023-05-07'),\n",
              " (8, 5, '2023-05-08'),\n",
              " (9, 6, '2023-05-09'),\n",
              " (10, 7, '2023-05-10'),\n",
              " (11, 8, '2023-05-11'),\n",
              " (12, 9, '2023-05-12'),\n",
              " (13, 10, '2023-05-13'),\n",
              " (14, 11, '2023-05-14'),\n",
              " (15, 12, '2023-05-15'),\n",
              " (16, 13, '2023-05-16')]"
            ],
            "text/html": [
              "<table>\n",
              "    <thead>\n",
              "        <tr>\n",
              "            <th>order_id</th>\n",
              "            <th>customer_id</th>\n",
              "            <th>order_date</th>\n",
              "        </tr>\n",
              "    </thead>\n",
              "    <tbody>\n",
              "        <tr>\n",
              "            <td>1</td>\n",
              "            <td>1</td>\n",
              "            <td>2023-05-01</td>\n",
              "        </tr>\n",
              "        <tr>\n",
              "            <td>2</td>\n",
              "            <td>2</td>\n",
              "            <td>2023-05-02</td>\n",
              "        </tr>\n",
              "        <tr>\n",
              "            <td>3</td>\n",
              "            <td>3</td>\n",
              "            <td>2023-05-03</td>\n",
              "        </tr>\n",
              "        <tr>\n",
              "            <td>4</td>\n",
              "            <td>1</td>\n",
              "            <td>2023-05-04</td>\n",
              "        </tr>\n",
              "        <tr>\n",
              "            <td>5</td>\n",
              "            <td>2</td>\n",
              "            <td>2023-05-05</td>\n",
              "        </tr>\n",
              "        <tr>\n",
              "            <td>6</td>\n",
              "            <td>3</td>\n",
              "            <td>2023-05-06</td>\n",
              "        </tr>\n",
              "        <tr>\n",
              "            <td>7</td>\n",
              "            <td>4</td>\n",
              "            <td>2023-05-07</td>\n",
              "        </tr>\n",
              "        <tr>\n",
              "            <td>8</td>\n",
              "            <td>5</td>\n",
              "            <td>2023-05-08</td>\n",
              "        </tr>\n",
              "        <tr>\n",
              "            <td>9</td>\n",
              "            <td>6</td>\n",
              "            <td>2023-05-09</td>\n",
              "        </tr>\n",
              "        <tr>\n",
              "            <td>10</td>\n",
              "            <td>7</td>\n",
              "            <td>2023-05-10</td>\n",
              "        </tr>\n",
              "        <tr>\n",
              "            <td>11</td>\n",
              "            <td>8</td>\n",
              "            <td>2023-05-11</td>\n",
              "        </tr>\n",
              "        <tr>\n",
              "            <td>12</td>\n",
              "            <td>9</td>\n",
              "            <td>2023-05-12</td>\n",
              "        </tr>\n",
              "        <tr>\n",
              "            <td>13</td>\n",
              "            <td>10</td>\n",
              "            <td>2023-05-13</td>\n",
              "        </tr>\n",
              "        <tr>\n",
              "            <td>14</td>\n",
              "            <td>11</td>\n",
              "            <td>2023-05-14</td>\n",
              "        </tr>\n",
              "        <tr>\n",
              "            <td>15</td>\n",
              "            <td>12</td>\n",
              "            <td>2023-05-15</td>\n",
              "        </tr>\n",
              "        <tr>\n",
              "            <td>16</td>\n",
              "            <td>13</td>\n",
              "            <td>2023-05-16</td>\n",
              "        </tr>\n",
              "    </tbody>\n",
              "</table>"
            ]
          },
          "metadata": {},
          "execution_count": 70
        }
      ]
    },
    {
      "cell_type": "code",
      "source": [
        "%%sql\n",
        "SELECT order_date *MAX(quantity) FROM orders\n",
        "INNER JOIN order_items ON orders.order_id=order_items.order_id"
      ],
      "metadata": {
        "colab": {
          "base_uri": "https://localhost:8080/",
          "height": 96
        },
        "id": "9iV3jNc4ggmu",
        "outputId": "f8d5f042-3d5a-4189-d263-4b44e45820d3"
      },
      "execution_count": null,
      "outputs": [
        {
          "output_type": "stream",
          "name": "stdout",
          "text": [
            " * sqlite:///DATA_ABC.db\n",
            "Done.\n"
          ]
        },
        {
          "output_type": "execute_result",
          "data": {
            "text/plain": [
              "[(8092,)]"
            ],
            "text/html": [
              "<table>\n",
              "    <thead>\n",
              "        <tr>\n",
              "            <th>order_date *MAX(quantity)</th>\n",
              "        </tr>\n",
              "    </thead>\n",
              "    <tbody>\n",
              "        <tr>\n",
              "            <td>8092</td>\n",
              "        </tr>\n",
              "    </tbody>\n",
              "</table>"
            ]
          },
          "metadata": {},
          "execution_count": 72
        }
      ]
    },
    {
      "cell_type": "markdown",
      "source": [
        "# **WEEK 1 CHALLENGE**"
      ],
      "metadata": {
        "id": "S3zKbBQ46CcP"
      }
    },
    {
      "cell_type": "code",
      "source": [
        "%%sql\n",
        "CREATE TABLE village_location(name VARCHAR(20)\n",
        ",cordinates DECIMAL(10,10))"
      ],
      "metadata": {
        "colab": {
          "base_uri": "https://localhost:8080/"
        },
        "id": "cyGnewFrq_2k",
        "outputId": "b80a5b5d-bec3-4bbe-a7ac-a0f00961d26d"
      },
      "execution_count": null,
      "outputs": [
        {
          "output_type": "stream",
          "name": "stdout",
          "text": [
            " * sqlite:///DATA_ABC.db\n",
            "Done.\n"
          ]
        },
        {
          "output_type": "execute_result",
          "data": {
            "text/plain": [
              "[]"
            ]
          },
          "metadata": {},
          "execution_count": 79
        }
      ]
    },
    {
      "cell_type": "code",
      "source": [
        "%%sql\n",
        "CREATE TABLE beneficiary_partner(projects INT,beneficiaries INT)"
      ],
      "metadata": {
        "colab": {
          "base_uri": "https://localhost:8080/"
        },
        "id": "96hEjcVptepg",
        "outputId": "673eb1e3-c867-41cb-f7f6-14dd90dad855"
      },
      "execution_count": null,
      "outputs": [
        {
          "output_type": "stream",
          "name": "stdout",
          "text": [
            " * sqlite:///DATA_ABC.db\n",
            "Done.\n"
          ]
        },
        {
          "output_type": "execute_result",
          "data": {
            "text/plain": [
              "[]"
            ]
          },
          "metadata": {},
          "execution_count": 80
        }
      ]
    },
    {
      "cell_type": "code",
      "source": [
        "%%sql\n",
        "CREATE TABLE jurisdiction_hierachy( Village VARCHAR(30),district VARCHAR(30),region VARCHAR(30));"
      ],
      "metadata": {
        "colab": {
          "base_uri": "https://localhost:8080/"
        },
        "id": "8CYZtdWpteGV",
        "outputId": "a5f46094-53c9-498c-9da7-bfdd9d4ec687"
      },
      "execution_count": null,
      "outputs": [
        {
          "output_type": "stream",
          "name": "stdout",
          "text": [
            " * sqlite:///DATA_ABC.db\n",
            "Done.\n"
          ]
        },
        {
          "output_type": "execute_result",
          "data": {
            "text/plain": [
              "[]"
            ]
          },
          "metadata": {},
          "execution_count": 81
        }
      ]
    },
    {
      "cell_type": "code",
      "source": [
        "%%sql\n",
        "CREATE TABLE datapoints(partner_id INT, partner VARCHAR(30), village VARCHAR(30), beneficiaries VARCHAR(30), beneficiary_type VARCHAR(30))"
      ],
      "metadata": {
        "colab": {
          "base_uri": "https://localhost:8080/"
        },
        "id": "2l2aTKD9wX7l",
        "outputId": "cd1dc5e4-d3ee-45cd-e808-3512f733ee38"
      },
      "execution_count": null,
      "outputs": [
        {
          "output_type": "stream",
          "name": "stdout",
          "text": [
            " * sqlite:///DATA_ABC.db\n",
            "Done.\n"
          ]
        },
        {
          "output_type": "execute_result",
          "data": {
            "text/plain": [
              "[]"
            ]
          },
          "metadata": {},
          "execution_count": 83
        }
      ]
    },
    {
      "cell_type": "markdown",
      "source": [
        "%%sql CREATE TABLE summary_district(district_name VARCHAR(30),region_name VARCHAR(30),beneficiaries INT,district_population INT)"
      ],
      "metadata": {
        "id": "ykJnJnqS2fr0"
      }
    },
    {
      "cell_type": "markdown",
      "source": [
        "%%sql CREATE TABLE summary_partners(Partner_Name VARCHAR(30),villages INT,districts INT)"
      ],
      "metadata": {
        "id": "LFaj1D-j3qlR"
      }
    },
    {
      "cell_type": "markdown",
      "source": [],
      "metadata": {
        "id": "STx8nLi42fe7"
      }
    }
  ]
}